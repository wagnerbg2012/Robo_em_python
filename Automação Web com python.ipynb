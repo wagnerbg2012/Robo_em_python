{
 "cells": [
  {
   "cell_type": "code",
   "execution_count": 43,
   "id": "f3e01166",
   "metadata": {
    "scrolled": true
   },
   "outputs": [],
   "source": [
    "from selenium import webdriver\n",
    "\n",
    "\n",
    "    \n",
    "driver = webdriver.Chrome()\n",
    "\n",
    "driver.get(\"https://chamados.ati.to.gov.br/otrs/index.pl?Action=Logout;ChallengeToken=74DxcKK3OVXsXqgUnFTap4QRJcZBRkE4;\")\n",
    "\n",
    "#driver.find_element(\"xpath\",'//*[@id=\"User\"]').click() \n",
    "Usuario = driver.find_element(\"xpath\",'//*[@name=\"User\"]')\n",
    "Usuario.clear()\n",
    "Usuario.send_keys(\"04827358133\")\n",
    "senha = driver.find_element(\"xpath\",'//*[@name=\"Password\"]')\n",
    "senha.clear()\n",
    "senha.send_keys(\"04827358133\")\n",
    "driver.find_element(\"xpath\",'//*[@id=\"LoginButton\"]').click()\n"
   ]
  },
  {
   "cell_type": "code",
   "execution_count": 14,
   "id": "d48b79aa",
   "metadata": {},
   "outputs": [
    {
     "ename": "TypeError",
     "evalue": "'WebDriver' object is not callable",
     "output_type": "error",
     "traceback": [
      "\u001b[1;31m---------------------------------------------------------------------------\u001b[0m",
      "\u001b[1;31mTypeError\u001b[0m                                 Traceback (most recent call last)",
      "\u001b[1;32mc:\\Users\\WagnerBatistaGama\\Meu Drive\\DOCUMENTOS\\CURSO\\Ciências de Dados\\Python\\Automação Web com python.ipynb Cell 2'\u001b[0m in \u001b[0;36m<cell line: 17>\u001b[1;34m()\u001b[0m\n\u001b[0;32m     <a href='vscode-notebook-cell:/c%3A/Users/WagnerBatistaGama/Meu%20Drive/DOCUMENTOS/CURSO/Ci%C3%AAncias%20de%20Dados/Python/Automa%C3%A7%C3%A3o%20Web%20com%20python.ipynb#ch0000001?line=13'>14</a>\u001b[0m driver\u001b[39m.\u001b[39mget(\u001b[39m\"\u001b[39m\u001b[39mhttps://www.geeksforgeeks.org/\u001b[39m\u001b[39m\"\u001b[39m)\n\u001b[0;32m     <a href='vscode-notebook-cell:/c%3A/Users/WagnerBatistaGama/Meu%20Drive/DOCUMENTOS/CURSO/Ci%C3%AAncias%20de%20Dados/Python/Automa%C3%A7%C3%A3o%20Web%20com%20python.ipynb#ch0000001?line=15'>16</a>\u001b[0m \u001b[39m# get element\u001b[39;00m\n\u001b[1;32m---> <a href='vscode-notebook-cell:/c%3A/Users/WagnerBatistaGama/Meu%20Drive/DOCUMENTOS/CURSO/Ci%C3%AAncias%20de%20Dados/Python/Automa%C3%A7%C3%A3o%20Web%20com%20python.ipynb#ch0000001?line=16'>17</a>\u001b[0m driver(driver, \u001b[39m10\u001b[39;49m)\u001b[39m.\u001b[39muntil(EC\u001b[39m.\u001b[39melement_to_be_clickable((By\u001b[39m.\u001b[39mXPATH, \u001b[39m\"\u001b[39m\u001b[39mxpath here\u001b[39m\u001b[39m\"\u001b[39m)))\u001b[39m.\u001b[39msend_keys(\u001b[39m\"\u001b[39m\u001b[39mtest\u001b[39m\u001b[39m\"\u001b[39m)\n\u001b[0;32m     <a href='vscode-notebook-cell:/c%3A/Users/WagnerBatistaGama/Meu%20Drive/DOCUMENTOS/CURSO/Ci%C3%AAncias%20de%20Dados/Python/Automa%C3%A7%C3%A3o%20Web%20com%20python.ipynb#ch0000001?line=18'>19</a>\u001b[0m \u001b[39m# print complete element\u001b[39;00m\n\u001b[0;32m     <a href='vscode-notebook-cell:/c%3A/Users/WagnerBatistaGama/Meu%20Drive/DOCUMENTOS/CURSO/Ci%C3%AAncias%20de%20Dados/Python/Automa%C3%A7%C3%A3o%20Web%20com%20python.ipynb#ch0000001?line=19'>20</a>\u001b[0m \u001b[39mprint\u001b[39m(element)\n",
      "\u001b[1;31mTypeError\u001b[0m: 'WebDriver' object is not callable"
     ]
    }
   ],
   "source": [
    "\n",
    "# Python program to demonstrate\n",
    "# selenium\n",
    " \n",
    "# import webdriver\n",
    "from selenium import webdriver\n",
    " \n",
    "# create webdriver object\n",
    "driver = webdriver.Chrome()\n",
    " \n",
    "# enter keyword to search\n",
    "keyword = \"geeksforgeeks\"\n",
    " \n",
    "# get geeksforgeeks.org\n",
    "driver.get(\"https://www.geeksforgeeks.org/\")\n",
    " \n",
    "# get element\n",
    "driver(driver, 10).until(EC.element_to_be_clickable((By.XPATH, \"xpath here\"))).send_keys(\"test\")\n",
    " \n",
    "# print complete element\n",
    "print(element)"
   ]
  },
  {
   "cell_type": "code",
   "execution_count": null,
   "id": "2effb6c9",
   "metadata": {},
   "outputs": [
    {
     "ename": "SyntaxError",
     "evalue": "(unicode error) 'unicodeescape' codec can't decode bytes in position 17-18: truncated \\UXXXXXXXX escape (355242219.py, line 4)",
     "output_type": "error",
     "traceback": [
      "\u001b[1;36m  Input \u001b[1;32mIn [34]\u001b[1;36m\u001b[0m\n\u001b[1;33m    options.add_argument(\"user-data-dir= C:\\Users\\WagnerBatistaGama\\anaconda3\")\u001b[0m\n\u001b[1;37m                                                                              ^\u001b[0m\n\u001b[1;31mSyntaxError\u001b[0m\u001b[1;31m:\u001b[0m (unicode error) 'unicodeescape' codec can't decode bytes in position 17-18: truncated \\UXXXXXXXX escape\n"
     ]
    }
   ],
   "source": [
    "from selenium import webdriver\n",
    "from selenium.webdriver.chrome.options import Options\n",
    "options = Options()\n",
    "options.add_argument(\"user-data-dir= C:\\Users\\WagnerBatistaGama\\anaconda3\")\n",
    "w = webdriver.Chrome(executable_path='chromedriver.exe', chrome_options=options)\n",
    "w.get(\"https://m.uber.com/looking\")\n",
    "time.sleep(6)"
   ]
  },
  {
   "cell_type": "code",
   "execution_count": null,
   "id": "f1a0c133",
   "metadata": {},
   "outputs": [
    {
     "ename": "ModuleNotFoundError",
     "evalue": "No module named 'pyautogui'",
     "output_type": "error",
     "traceback": [
      "\u001b[1;31m---------------------------------------------------------------------------\u001b[0m",
      "\u001b[1;31mModuleNotFoundError\u001b[0m                       Traceback (most recent call last)",
      "Input \u001b[1;32mIn [37]\u001b[0m, in \u001b[0;36m<cell line: 1>\u001b[1;34m()\u001b[0m\n\u001b[1;32m----> 1\u001b[0m \u001b[38;5;28;01mimport\u001b[39;00m \u001b[38;5;21;01mpyautogui\u001b[39;00m\n\u001b[0;32m      3\u001b[0m screenWidth, screenHeight \u001b[38;5;241m=\u001b[39m pyautogui\u001b[38;5;241m.\u001b[39msize() \u001b[38;5;66;03m# Get the size of the primary monitor.\u001b[39;00m\n\u001b[0;32m      4\u001b[0m screenWidth, screenHeight\n",
      "\u001b[1;31mModuleNotFoundError\u001b[0m: No module named 'pyautogui'"
     ]
    }
   ],
   "source": [
    ">>> import pyautogui\n",
    "\n",
    ">>> screenWidth, screenHeight = pyautogui.size() # Get the size of the primary monitor.\n",
    ">>> screenWidth, screenHeight\n",
    "(2560, 1440)\n",
    "\n",
    ">>> currentMouseX, currentMouseY = pyautogui.position() # Get the XY position of the mouse.\n",
    ">>> currentMouseX, currentMouseY\n",
    "(1314, 345)\n",
    "\n",
    ">>> pyautogui.moveTo(100, 150) # Move the mouse to XY coordinates.\n",
    "\n",
    ">>> pyautogui.click()          # Click the mouse.\n",
    ">>> pyautogui.click(100, 200)  # Move the mouse to XY coordinates and click it.\n",
    ">>> pyautogui.click('button.png') # Find where button.png appears on the screen and click it.\n",
    "\n",
    ">>> pyautogui.move(400, 0)      # Move the mouse 400 pixels to the right of its current position.\n",
    ">>> pyautogui.doubleClick()     # Double click the mouse.\n",
    ">>> pyautogui.moveTo(500, 500, duration=2, tween=pyautogui.easeInOutQuad)  # Use tweening/easing function to move mouse over 2 seconds.\n",
    "\n",
    ">>> pyautogui.write('Hello world!', interval=0.25)  # type with quarter-second pause in between each key\n",
    ">>> pyautogui.press('esc')     # Press the Esc key. All key names are in pyautogui.KEY_NAMES\n",
    "\n",
    ">>> with pyautogui.hold('shift'):  # Press the Shift key down and hold it.\n",
    "        pyautogui.press(['left', 'left', 'left', 'left'])  # Press the left arrow key 4 times.\n",
    ">>> # Shift key is released automatically.\n",
    "\n",
    ">>> pyautogui.hotkey('ctrl', 'c') # Press the Ctrl-C hotkey combination.\n",
    "\n",
    ">>> pyautogui.alert('This is the message to display.') # Make an alert box appear and pause the program until OK is clicked."
   ]
  }
 ],
 "metadata": {
  "kernelspec": {
   "display_name": "Python 3.10.5 64-bit",
   "language": "python",
   "name": "python3"
  },
  "language_info": {
   "codemirror_mode": {
    "name": "ipython",
    "version": 3
   },
   "file_extension": ".py",
   "mimetype": "text/x-python",
   "name": "python",
   "nbconvert_exporter": "python",
   "pygments_lexer": "ipython3",
   "version": "3.10.5"
  },
  "vscode": {
   "interpreter": {
    "hash": "fef9bd6e6fe995c436516425c401e1a8e41d09919c6401a542345c8cc6e0e8ab"
   }
  }
 },
 "nbformat": 4,
 "nbformat_minor": 5
}
